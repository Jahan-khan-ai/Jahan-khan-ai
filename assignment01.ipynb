{
  "nbformat": 4,
  "nbformat_minor": 0,
  "metadata": {
    "colab": {
      "provenance": [],
      "authorship_tag": "ABX9TyNVati5INasmrlQUbXE8tv/",
      "include_colab_link": true
    },
    "kernelspec": {
      "name": "python3",
      "display_name": "Python 3"
    },
    "language_info": {
      "name": "python"
    }
  },
  "cells": [
    {
      "cell_type": "markdown",
      "metadata": {
        "id": "view-in-github",
        "colab_type": "text"
      },
      "source": [
        "<a href=\"https://colab.research.google.com/github/Jahan-khan-ai/Jahan-khan-ai/blob/main/assignment01.ipynb\" target=\"_parent\"><img src=\"https://colab.research.google.com/assets/colab-badge.svg\" alt=\"Open In Colab\"/></a>"
      ]
    },
    {
      "cell_type": "markdown",
      "source": [
        "# **FIRST METHOD:**"
      ],
      "metadata": {
        "id": "kP-YOZYiDFOR"
      }
    },
    {
      "cell_type": "code",
      "source": [
        "\n",
        "k_electric: str =\"k.electric\" # k_electric value is \"k.electric\".\n",
        "ups: str =\"ups\" # ups value is \"ups\".\n",
        "no_k_electric: str =\"no k.electric\" # no_k_electric value is \"no k.electric\".\n",
        "no_ups: str =\"no ups\" # no_ups ki value \"no ups\" hy.\n",
        "\n",
        "print((k_electric ==\"k.electric\" and ups != \"no ups\") and k_electric or \"\")\n",
        "\n",
        "# Example:-\n",
        "  # print(( True ) and k_electric or\"\")\n",
        "\n",
        "# 1st bracket me comparison operator use kiy gay hain.\n",
        "# Logical operator \"and\" ki condition lagi gai hy.\n",
        "# Is bracket ka ans Ture aay ga.\n",
        "# 2nd bracket meen \"True\" ans r variable k_electric py logical opreter \"and\" / \"or\" ki condition di hy.\n",
        "# Agr first bracket ka ans True aay ga veriable valid hoga to and ki command apply hogi to ans k.electric aay ga.\n",
        "# Agr veriable valid ni hoga r Ture ans ni hoga to or ki command blank show kry gi.\n",
        "# Note: jo b \"or\" ki command men value hogi wo show ho gi (or\"\") is ka matlb \"or\" ki command blank hy."
      ],
      "metadata": {
        "colab": {
          "base_uri": "https://localhost:8080/"
        },
        "id": "NLIhHCsY_HkM",
        "outputId": "179dc376-a846-47ba-e88c-0174baba0517"
      },
      "execution_count": 8,
      "outputs": [
        {
          "output_type": "stream",
          "name": "stdout",
          "text": [
            "k.electric\n"
          ]
        }
      ]
    },
    {
      "cell_type": "markdown",
      "source": [
        "# **SECOND METHOD:**"
      ],
      "metadata": {
        "id": "Ltb77rRvELDh"
      }
    },
    {
      "cell_type": "code",
      "source": [
        "k_electric: str =\"k.electric\" # k_electric value is \"k.electric\".\n",
        "ups: str =\"ups\" # ups value is \"ups\".\n",
        "no_k_electric: str =\"no k.electric\" # no_k_electric value is \"no k.electric\".\n",
        "no_ups: str =\"no ups\" # no_ups ki value \"no ups\" hy\n",
        "\n",
        "result = (k_electric\n",
        "if k_electric ==\"k.electric\" and ups !=\"no ups\" else \"ups\")\n",
        "print (result)\n",
        "# ik variable result bnaya us ki value men ik statement py if ,and r else condition apply ki\n",
        "#jo b output aay ga wo result veriable ka operand ho ga\n",
        "# print function sy show krayen gy"
      ],
      "metadata": {
        "colab": {
          "base_uri": "https://localhost:8080/"
        },
        "id": "pQlvtMEIEt6F",
        "outputId": "804ef9bd-d92f-4137-8889-70874fae116e"
      },
      "execution_count": 9,
      "outputs": [
        {
          "output_type": "stream",
          "name": "stdout",
          "text": [
            "k.electric\n"
          ]
        }
      ]
    },
    {
      "cell_type": "markdown",
      "source": [
        "# **THIRD METHOD:**"
      ],
      "metadata": {
        "id": "mlWJCLPsGSIq"
      }
    },
    {
      "cell_type": "code",
      "source": [
        "k_electric: str =\"k.electric\" # k_electric value is \"k.electric\".\n",
        "ups: str =\"ups\" # ups value is \"ups\".\n",
        "no_k_electric: str =\"no k.electric\" # no_k_electric value is \"no k.electric\".\n",
        "ups_off: str =\"no ups\" # no_ups ki value \"no ups\" hy\n",
        "\n",
        "print(k_electric ==\"k.electric\" or ups ==\"ups\")\n",
        "#print men k breket men\n",
        "# variables ko compair krny k lean comapriosin opraters use kia hain\n",
        "#logical oprater \"or\" use kia hy jo ans aay ga wo boolen print ho ga"
      ],
      "metadata": {
        "colab": {
          "base_uri": "https://localhost:8080/"
        },
        "id": "cIQ8m85kGnQu",
        "outputId": "a3047c2e-dae3-4359-d2f6-a56d3bd49cce"
      },
      "execution_count": 12,
      "outputs": [
        {
          "output_type": "stream",
          "name": "stdout",
          "text": [
            "True\n"
          ]
        }
      ]
    },
    {
      "cell_type": "markdown",
      "source": [
        "# **FORTH METHOD:**"
      ],
      "metadata": {
        "id": "OdmVqoodG2Oc"
      }
    },
    {
      "cell_type": "code",
      "source": [
        "k_electric: str =\"k.electric\" # k_electric value is \"k.electric\".\n",
        "ups: str =\"ups\" # ups value is \"ups\".\n",
        "no_k_electric: str =\"no k.electric\" # no_k_electric value is \"no k.electric\".\n",
        "no_ups: str =\"no ups\" # no_ups ki value \"no ups\" hy\n",
        "\n",
        "k_electric!=no_k_electric and ups !=no_ups\n",
        "# variables ko compair krny k lean comapriosin opraters use kia hain\n",
        "#logical oprater \"and\" use kia hy than syntax ka output show hoga"
      ],
      "metadata": {
        "colab": {
          "base_uri": "https://localhost:8080/"
        },
        "id": "2b5gKC09HCpz",
        "outputId": "337d5f3b-d18c-42d7-b832-a88c8663d0d1"
      },
      "execution_count": 13,
      "outputs": [
        {
          "output_type": "execute_result",
          "data": {
            "text/plain": [
              "True"
            ]
          },
          "metadata": {},
          "execution_count": 13
        }
      ]
    },
    {
      "cell_type": "code",
      "source": [],
      "metadata": {
        "id": "ACsQGqKjHN3H"
      },
      "execution_count": null,
      "outputs": []
    }
  ]
}